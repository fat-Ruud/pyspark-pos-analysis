{
 "cells": [
  {
   "cell_type": "markdown",
   "id": "552b697b-1878-40ba-aeeb-969557e0e143",
   "metadata": {},
   "source": [
    "# PySpark Part of Speech (POS) analysis\n",
    "Text taken from [Reuters](https://www.reuters.com/business/finance/banks-beware-outsiders-are-cracking-code-finance-2021-09-17/)."
   ]
  },
  {
   "cell_type": "code",
   "execution_count": 5,
   "id": "7cd1ede6-d16a-4a00-bd87-1f62a8c5f149",
   "metadata": {},
   "outputs": [
    {
     "data": {
      "text/plain": [
       "'C:\\\\spark-3.1.2-bin-hadoop2.7'"
      ]
     },
     "execution_count": 5,
     "metadata": {},
     "output_type": "execute_result"
    }
   ],
   "source": [
    "import nltk\n",
    "import findspark\n",
    "findspark.init()\n",
    "findspark.find()"
   ]
  },
  {
   "cell_type": "code",
   "execution_count": 6,
   "id": "89787517",
   "metadata": {},
   "outputs": [],
   "source": [
    "import pyspark"
   ]
  },
  {
   "cell_type": "code",
   "execution_count": 7,
   "id": "46c21e6e-08f3-4755-b0d3-2caa83441d6c",
   "metadata": {},
   "outputs": [
    {
     "name": "stderr",
     "output_type": "stream",
     "text": [
      "[nltk_data] Downloading package punkt to\n",
      "[nltk_data]     C:\\Users\\Moises\\AppData\\Roaming\\nltk_data...\n",
      "[nltk_data]   Package punkt is already up-to-date!\n",
      "[nltk_data] Downloading package averaged_perceptron_tagger to\n",
      "[nltk_data]     C:\\Users\\Moises\\AppData\\Roaming\\nltk_data...\n",
      "[nltk_data]   Package averaged_perceptron_tagger is already up-to-\n",
      "[nltk_data]       date!\n"
     ]
    },
    {
     "data": {
      "text/plain": [
       "True"
      ]
     },
     "execution_count": 7,
     "metadata": {},
     "output_type": "execute_result"
    }
   ],
   "source": [
    "from pyspark import SparkContext\n",
    "nltk.download(\"punkt\")\n",
    "nltk.download(\"averaged_perceptron_tagger\")"
   ]
  },
  {
   "cell_type": "code",
   "execution_count": 8,
   "id": "23067b1b-24a8-4e92-8998-04aabe98c1b7",
   "metadata": {},
   "outputs": [],
   "source": [
    "sc = SparkContext(\"local\", appName = \"pyspark-pos-analysis\")"
   ]
  },
  {
   "cell_type": "code",
   "execution_count": 9,
   "id": "d3867cc9-1200-454b-b808-46ff63273be8",
   "metadata": {},
   "outputs": [],
   "source": [
    "# Loading a text file\n",
    "rdd_reuters = sc.textFile(\"./data/reuters.txt\")"
   ]
  },
  {
   "cell_type": "code",
   "execution_count": 10,
   "id": "c010db1d-f71e-4a8d-992c-076d7e16b777",
   "metadata": {},
   "outputs": [
    {
     "data": {
      "text/plain": [
       "87"
      ]
     },
     "execution_count": 10,
     "metadata": {},
     "output_type": "execute_result"
    }
   ],
   "source": [
    "rdd_reuters.count()"
   ]
  },
  {
   "cell_type": "code",
   "execution_count": 11,
   "id": "ca224922-5dad-4f20-9d57-eb8dec11fa04",
   "metadata": {},
   "outputs": [
    {
     "name": "stdout",
     "output_type": "stream",
     "text": [
      "[('Banks', 'NNS'), ('beware', 'NN'), (',', ','), ('Amazon', 'NNP'), ('and', 'CC'), ('Walmart', 'NNP'), ('are', 'VBP'), ('cracking', 'VBG'), ('the', 'DT'), ('code', 'NN'), ('for', 'IN'), ('financeLONDON', 'NN'), (',', ','), ('Sept', 'NNP'), ('17', 'CD'), ('(', '('), ('Reuters', 'NNPS'), (')', ')'), ('-', ':'), ('Anyone', 'NN'), ('can', 'MD'), ('be', 'VB'), ('a', 'DT'), ('banker', 'NN'), ('these', 'DT'), ('days', 'NNS'), (',', ','), ('you', 'PRP'), ('just', 'RB'), ('need', 'VB'), ('the', 'DT'), ('right', 'JJ'), ('code.Global', 'NN'), ('brands', 'NNS'), ('from', 'IN'), ('Mercedes', 'NNP'), ('and', 'CC'), ('Amazon', 'NNP'), ('(', '('), ('AMZN.O', 'NNP'), (')', ')'), ('to', 'TO'), ('IKEA', 'NNP'), ('and', 'CC'), ('Walmart', 'NNP'), ('(', '('), ('WMT.N', 'NNP'), (')', ')'), ('are', 'VBP'), ('cutting', 'VBG'), ('out', 'RP'), ('the', 'DT'), ('traditional', 'JJ'), ('financial', 'JJ'), ('middleman', 'NN'), ('and', 'CC'), ('plugging', 'NN'), ('in', 'IN'), ('software', 'NN'), ('from', 'IN'), ('tech', 'NN'), ('startups', 'NNS'), ('to', 'TO'), ('offer', 'VB'), ('customers', 'NNS'), ('everything', 'NN'), ('from', 'IN'), ('banking', 'NN'), ('and', 'CC'), ('credit', 'NN'), ('to', 'TO'), ('insurance.For', 'VB'), ('established', 'VBN'), ('financial', 'JJ'), ('institutions', 'NNS'), (',', ','), ('the', 'DT'), ('warning', 'NN'), ('signs', 'NNS'), ('are', 'VBP'), ('flashing.So-called', 'JJ'), ('embedded', 'JJ'), ('finance', 'NN'), ('-', ':'), ('a', 'DT'), ('fancy', 'JJ'), ('term', 'NN'), ('for', 'IN'), ('companies', 'NNS'), ('integrating', 'VBG'), ('software', 'NN'), ('to', 'TO'), ('offer', 'VB'), ('financial', 'JJ'), ('services', 'NNS'), ('-', ':'), ('means', 'VBZ'), ('Amazon', 'NNP'), ('can', 'MD'), ('let', 'VB'), ('customers', 'NNS'), ('``', '``'), ('buy', 'VB'), ('now', 'RB'), ('pay', 'VBP'), ('later', 'RB'), (\"''\", \"''\"), ('when', 'WRB'), ('they', 'PRP'), ('check', 'VBP'), ('out', 'RP'), ('and', 'CC'), ('Mercedes', 'NNP'), ('drivers', 'NNS'), ('can', 'MD'), ('get', 'VB'), ('their', 'PRP$'), ('cars', 'NNS'), ('to', 'TO'), ('pay', 'VB'), ('for', 'IN'), ('their', 'PRP$'), ('fuel.To', 'NN'), ('be', 'VB'), ('sure', 'JJ'), (',', ','), ('banks', 'NNS'), ('are', 'VBP'), ('still', 'RB'), ('behind', 'IN'), ('most', 'JJS'), ('of', 'IN'), ('the', 'DT'), ('transactions', 'NNS'), ('but', 'CC'), ('investors', 'NNS'), ('and', 'CC'), ('analysts', 'NNS'), ('say', 'VBP'), ('the', 'DT'), ('risk', 'NN'), ('for', 'IN'), ('traditional', 'JJ'), ('lenders', 'NNS'), ('is', 'VBZ'), ('that', 'IN'), ('they', 'PRP'), ('will', 'MD'), ('get', 'VB'), ('pushed', 'VBN'), ('further', 'RB'), ('away', 'RB'), ('from', 'IN'), ('the', 'DT'), ('front', 'JJ'), ('end', 'NN'), ('of', 'IN'), ('the', 'DT'), ('finance', 'NN'), ('chain.And', 'NN'), ('that', 'WDT'), ('means', 'VBZ'), ('they', 'PRP'), (\"'ll\", 'MD'), ('be', 'VB'), ('further', 'RB'), ('away', 'RB'), ('from', 'IN'), ('the', 'DT'), ('mountains', 'NNS'), ('of', 'IN'), ('data', 'NNS'), ('others', 'NNS'), ('are', 'VBP'), ('hoovering', 'VBG'), ('up', 'RP'), ('about', 'IN'), ('the', 'DT'), ('preferences', 'NNS'), ('and', 'CC'), ('behaviours', 'NNS'), ('of', 'IN'), ('their', 'PRP$'), ('customers', 'NNS'), ('-', ':'), ('data', 'NNS'), ('that', 'WDT'), ('could', 'MD'), ('be', 'VB'), ('crucial', 'JJ'), ('in', 'IN'), ('giving', 'VBG'), ('them', 'PRP'), ('an', 'DT'), ('edge', 'NN'), ('over', 'IN'), ('banks', 'NNS'), ('in', 'IN'), ('financial', 'JJ'), ('services', 'NNS'), ('.', '.'), ('``', '``'), ('Embedded', 'VBD'), ('financial', 'JJ'), ('services', 'NNS'), ('takes', 'VBZ'), ('the', 'DT'), ('cross-sell', 'NN'), ('concept', 'NN'), ('to', 'TO'), ('new', 'JJ'), ('heights', 'NNS'), ('.', '.'), ('It', 'PRP'), (\"'s\", 'VBZ'), ('predicated', 'VBN'), ('on', 'IN'), ('a', 'DT'), ('deep', 'JJ'), ('software-based', 'JJ'), ('ongoing', 'JJ'), ('data', 'NNS'), ('relationship', 'NN'), ('with', 'IN'), ('the', 'DT'), ('consumer', 'NN'), ('and', 'CC'), ('business', 'NN'), (',', ','), (\"''\", \"''\"), ('said', 'VBD'), ('Matt', 'NNP'), ('Harris', 'NNP'), (',', ','), ('a', 'DT'), ('partner', 'NN'), ('at', 'IN'), ('investor', 'NN'), ('Bain', 'NNP'), ('Capital', 'NNP'), ('Ventures', 'NNP'), ('.', '.'), ('``', '``'), ('That', 'DT'), ('is', 'VBZ'), ('why', 'WRB'), ('this', 'DT'), ('revolution', 'NN'), ('is', 'VBZ'), ('so', 'RB'), ('important', 'JJ'), (',', ','), (\"''\", \"''\"), ('he', 'PRP'), ('said', 'VBD'), ('.', '.'), ('``', '``'), ('It', 'PRP'), ('means', 'VBZ'), ('that', 'IN'), ('all', 'PDT'), ('the', 'DT'), ('good', 'JJ'), ('risk', 'NN'), ('is', 'VBZ'), ('going', 'VBG'), ('to', 'TO'), ('go', 'VB'), ('to', 'TO'), ('these', 'DT'), ('embedded', 'VBN'), ('companies', 'NNS'), ('that', 'WDT'), ('know', 'VBP'), ('so', 'RB'), ('much', 'JJ'), ('about', 'IN'), ('their', 'PRP$'), ('customers', 'NNS'), ('and', 'CC'), ('what', 'WP'), ('is', 'VBZ'), ('left', 'VBN'), ('over', 'RP'), ('will', 'MD'), ('go', 'VB'), ('to', 'TO'), ('banks', 'NNS'), ('and', 'CC'), ('insurance', 'NN'), ('companies', 'NNS'), ('.', '.'), ('``', '``'), ('WHERE', 'WRB'), ('DO', 'NNP'), ('YOU', 'NNP'), ('WANT', 'NNP'), ('TO', 'NNP'), ('PLAY', 'NNP'), ('?', '.'), ('For', 'IN'), ('now', 'RB'), (',', ','), ('many', 'JJ'), ('areas', 'NNS'), ('of', 'IN'), ('embedded', 'VBN'), ('finance', 'NN'), ('are', 'VBP'), ('barely', 'RB'), ('denting', 'VBG'), ('the', 'DT'), ('dominance', 'NN'), ('of', 'IN'), ('banks', 'NNS'), ('and', 'CC'), ('even', 'RB'), ('though', 'IN'), ('some', 'DT'), ('upstarts', 'NNS'), ('have', 'VBP'), ('licences', 'NNS'), ('to', 'TO'), ('offer', 'VB'), ('regulated', 'JJ'), ('services', 'NNS'), ('such', 'JJ'), ('as', 'IN'), ('lending', 'NN'), (',', ','), ('they', 'PRP'), ('lack', 'VBP'), ('the', 'DT'), ('scale', 'NN'), ('and', 'CC'), ('deep', 'JJ'), ('funding', 'NN'), ('pools', 'NNS'), ('of', 'IN'), ('the', 'DT'), ('biggest', 'JJS'), ('banks.But', 'NN'), ('if', 'IN'), ('financial', 'JJ'), ('technology', 'NN'), ('firms', 'NNS'), (',', ','), ('or', 'CC'), ('fintechs', 'NNS'), (',', ','), ('can', 'MD'), ('match', 'VB'), ('their', 'PRP$'), ('success', 'NN'), ('in', 'IN'), ('grabbing', 'VBG'), ('a', 'DT'), ('chunk', 'NN'), ('of', 'IN'), ('digital', 'JJ'), ('payments', 'NNS'), ('from', 'IN'), ('banks', 'NNS'), ('-', ':'), ('and', 'CC'), ('boosting', 'VBG'), ('their', 'PRP$'), ('valuations', 'NNS'), ('in', 'IN'), ('the', 'DT'), ('process', 'NN'), ('-', ':'), ('lenders', 'NNS'), ('may', 'MD'), ('have', 'VB'), ('to', 'TO'), ('respond', 'VB'), (',', ','), ('analysts', 'NNS'), ('say.Stripe', 'VBP'), (',', ','), ('for', 'IN'), ('example', 'NN'), (',', ','), ('the', 'DT'), ('payments', 'NNS'), ('platform', 'VBP'), ('behind', 'IN'), ('many', 'JJ'), ('sites', 'NNS'), ('with', 'IN'), ('clients', 'NNS'), ('including', 'VBG'), ('Amazon', 'NNP'), ('and', 'CC'), ('Alphabet', 'NNP'), (\"'s\", 'POS'), ('(', '('), ('GOOGL.O', 'NNP'), (')', ')'), ('Google', 'NNP'), (',', ','), ('was', 'VBD'), ('valued', 'VBN'), ('at', 'IN'), ('$', '$'), ('95', 'CD'), ('billion', 'CD'), ('in', 'IN'), ('March.Accenture', 'NNP'), ('estimated', 'VBN'), ('in', 'IN'), ('2019', 'CD'), ('that', 'IN'), ('new', 'JJ'), ('entrants', 'NNS'), ('to', 'TO'), ('the', 'DT'), ('payments', 'NNS'), ('market', 'NN'), ('had', 'VBD'), ('amassed', 'VBN'), ('8', 'CD'), ('%', 'NN'), ('of', 'IN'), ('revenues', 'NNS'), ('globally', 'RB'), ('-', ':'), ('and', 'CC'), ('that', 'DT'), ('share', 'NN'), ('has', 'VBZ'), ('risen', 'VBN'), ('over', 'IN'), ('the', 'DT'), ('past', 'JJ'), ('year', 'NN'), ('as', 'IN'), ('the', 'DT'), ('pandemic', 'JJ'), ('boosted', 'VBD'), ('digital', 'JJ'), ('payments', 'NNS'), ('and', 'CC'), ('hit', 'VBD'), ('traditional', 'JJ'), ('payments', 'NNS'), (',', ','), ('Alan', 'NNP'), ('McIntyre', 'NNP'), (',', ','), ('senior', 'JJ'), ('banking', 'NN'), ('industry', 'NN'), ('director', 'NN'), ('at', 'IN'), ('Accenture', 'NNP'), (',', ','), ('said.Now', 'VBD'), ('the', 'DT'), ('focus', 'NN'), ('is', 'VBZ'), ('turning', 'VBG'), ('to', 'TO'), ('lending', 'NN'), (',', ','), ('as', 'RB'), ('well', 'RB'), ('as', 'IN'), ('complete', 'JJ'), ('off-the-shelf', 'JJ'), ('digital', 'JJ'), ('lenders', 'NNS'), ('with', 'IN'), ('a', 'DT'), ('variety', 'NN'), ('of', 'IN'), ('products', 'NNS'), ('businesses', 'NNS'), ('can', 'MD'), ('pick', 'VB'), ('and', 'CC'), ('choose', 'VB'), ('to', 'TO'), ('embed', 'VB'), ('in', 'IN'), ('their', 'PRP$'), ('processes', 'NNS'), ('.', '.'), ('``', '``'), ('The', 'DT'), ('vast', 'JJ'), ('majority', 'NN'), ('of', 'IN'), ('consumer', 'NN'), ('centric', 'NN'), ('companies', 'NNS'), ('will', 'MD'), ('be', 'VB'), ('able', 'JJ'), ('to', 'TO'), ('launch', 'VB'), ('financial', 'JJ'), ('products', 'NNS'), ('that', 'WDT'), ('will', 'MD'), ('allow', 'VB'), ('them', 'PRP'), ('to', 'TO'), ('significantly', 'RB'), ('improve', 'VB'), ('their', 'PRP$'), ('customer', 'NN'), ('experience', 'NN'), (',', ','), (\"''\", \"''\"), ('said', 'VBD'), ('Luca', 'NNP'), ('Bocchio', 'NNP'), (',', ','), ('partner', 'NN'), ('at', 'IN'), ('venture', 'NN'), ('capital', 'NN'), ('firm', 'NN'), ('Accel', 'NNP'), ('.', '.'), ('``', '``'), ('That', 'DT'), ('is', 'VBZ'), ('why', 'WRB'), ('we', 'PRP'), ('feel', 'VBP'), ('excited', 'VBN'), ('about', 'IN'), ('this', 'DT'), ('space', 'NN'), ('.', '.'), ('``', '``'), ('So', 'RB'), ('far', 'RB'), ('this', 'DT'), ('year', 'NN'), (',', ','), ('investors', 'NNS'), ('have', 'VBP'), ('poured', 'VBN'), ('$', '$'), ('4.25', 'CD'), ('billion', 'CD'), ('into', 'IN'), ('embedded', 'VBN'), ('finance', 'NN'), ('startups', 'NN'), (',', ','), ('almost', 'RB'), ('three', 'CD'), ('times', 'NNS'), ('the', 'DT'), ('amount', 'NN'), ('in', 'IN'), ('2020', 'CD'), (',', ','), ('data', 'NNS'), ('provided', 'VBD'), ('to', 'TO'), ('Reuters', 'NNS'), ('by', 'IN'), ('PitchBook', 'NNP'), ('shows.Leading', 'VBG'), ('the', 'DT'), ('way', 'NN'), ('is', 'VBZ'), ('Swedish', 'JJ'), ('buy', 'NN'), ('now', 'RB'), ('pay', 'VBP'), ('later', 'RB'), ('(', '('), ('BNPL', 'NNP'), (')', ')'), ('firm', 'NN'), ('Klarna', 'NNP'), ('which', 'WDT'), ('raised', 'VBD'), ('$', '$'), ('1.9', 'CD'), ('billion.DriveWealth', 'NN'), (',', ','), ('which', 'WDT'), ('sells', 'VBZ'), ('technology', 'NN'), ('allowing', 'VBG'), ('companies', 'NNS'), ('to', 'TO'), ('offer', 'VB'), ('fractional', 'JJ'), ('share', 'NN'), ('trading', 'NN'), (',', ','), ('attracted', 'VBD'), ('$', '$'), ('459', 'CD'), ('million', 'CD'), ('while', 'IN'), ('investors', 'NNS'), ('put', 'VBD'), ('$', '$'), ('229', 'CD'), ('million', 'CD'), ('into', 'IN'), ('Solarisbank', 'NNP'), (',', ','), ('a', 'DT'), ('licensed', 'JJ'), ('German', 'JJ'), ('digital', 'NN'), ('bank', 'NN'), ('which', 'WDT'), ('offers', 'VBZ'), ('an', 'DT'), ('array', 'NN'), ('of', 'IN'), ('banking', 'NN'), ('services', 'NNS'), ('software.Shares', 'VBZ'), ('in', 'IN'), ('Affirm', 'NNP'), ('(', '('), ('AFRM.O', 'NNP'), (')', ')'), (',', ','), ('meanwhile', 'RB'), (',', ','), ('surged', 'VBD'), ('last', 'JJ'), ('month', 'NN'), ('when', 'WRB'), ('it', 'PRP'), ('teamed', 'VBD'), ('up', 'RP'), ('with', 'IN'), ('Amazon', 'NNP'), ('to', 'TO'), ('offer', 'VB'), ('BNPL', 'NNP'), ('products', 'NNS'), ('while', 'IN'), ('rival', 'JJ'), ('U.S.', 'NNP'), ('fintech', 'NN'), ('Square', 'NNP'), ('(', '('), ('SQ.N', 'NNP'), (')', ')'), ('said', 'VBD'), ('last', 'JJ'), ('month', 'NN'), ('it', 'PRP'), ('was', 'VBD'), ('buying', 'VBG'), ('Australian', 'JJ'), ('BNPL', 'NNP'), ('firm', 'NN'), ('Afterpay', 'NNP'), ('(', '('), ('APT.AX', 'NNP'), (')', ')'), ('for', 'IN'), ('$', '$'), ('29', 'CD'), ('billion.Square', 'NN'), ('is', 'VBZ'), ('now', 'RB'), ('worth', 'JJ'), ('$', '$'), ('113', 'CD'), ('billion', 'CD'), (',', ','), ('more', 'JJR'), ('than', 'IN'), ('Europe', 'NNP'), (\"'s\", 'POS'), ('most', 'RBS'), ('valuable', 'JJ'), ('bank', 'NN'), (',', ','), ('HSBC', 'NNP'), ('(', '('), ('HSBA.L', 'NNP'), (')', ')'), (',', ','), ('on', 'IN'), ('$', '$'), ('105', 'CD'), ('billion', 'CD'), ('.', '.'), ('``', '``'), ('Big', 'JJ'), ('banks', 'NNS'), ('and', 'CC'), ('insurers', 'NNS'), ('will', 'MD'), ('lose', 'VB'), ('out', 'RP'), ('if', 'IN'), ('they', 'PRP'), ('do', 'VBP'), (\"n't\", 'RB'), ('act', 'VB'), ('quickly', 'RB'), ('and', 'CC'), ('work', 'VB'), ('out', 'RB'), ('where', 'WRB'), ('to', 'TO'), ('play', 'VB'), ('in', 'IN'), ('this', 'DT'), ('market', 'NN'), (',', ','), (\"''\", \"''\"), ('said', 'VBD'), ('Simon', 'NNP'), ('Torrance', 'NNP'), (',', ','), ('founder', 'NN'), ('of', 'IN'), ('Embedded', 'NNP'), ('Finance', 'NNP'), ('&', 'CC'), ('Super', 'NNP'), ('App', 'NNP'), ('Strategies.YOU', 'NNP'), ('NEED', 'NNP'), ('A', 'NNP'), ('LOAN', 'NNP'), ('!', '.'), ('Several', 'NNP'), ('other', 'JJ'), ('retailers', 'NNS'), ('have', 'VBP'), ('announced', 'VBN'), ('plans', 'NNS'), ('this', 'DT'), ('year', 'NN'), ('to', 'TO'), ('expand', 'VB'), ('in', 'IN'), ('financial', 'JJ'), ('services.Walmart', 'NN'), ('launched', 'VBD'), ('a', 'DT'), ('fintech', 'JJ'), ('startup', 'NN'), ('with', 'IN'), ('investment', 'NN'), ('firm', 'NN'), ('Ribbit', 'NNP'), ('Capital', 'NNP'), ('in', 'IN'), ('January', 'NNP'), ('to', 'TO'), ('develop', 'VB'), ('financial', 'JJ'), ('products', 'NNS'), ('for', 'IN'), ('its', 'PRP$'), ('employees', 'NNS'), ('and', 'CC'), ('customers', 'NNS'), ('while', 'IN'), ('IKEA', 'NNP'), ('took', 'VBD'), ('a', 'DT'), ('minority', 'NN'), ('stake', 'NN'), ('in', 'IN'), ('BNPL', 'NNP'), ('firm', 'NN'), ('Jifiti', 'NNP'), ('last', 'JJ'), ('month.Automakers', 'NNS'), ('such', 'JJ'), ('as', 'IN'), ('Volkswagen', 'NN'), (\"'s\", 'POS'), ('(', '('), ('VOWG_p.DE', 'NNP'), (')', ')'), ('Audi', 'NNP'), ('and', 'CC'), ('Tata', 'NNP'), (\"'s\", 'POS'), ('(', '('), ('TAMO.NS', 'NNP'), (')', ')'), ('Jaguar', 'NNP'), ('Land', 'NNP'), ('Rover', 'NNP'), ('have', 'VBP'), ('experimented', 'VBN'), ('with', 'IN'), ('embedding', 'VBG'), ('payment', 'NN'), ('technology', 'NN'), ('in', 'IN'), ('their', 'PRP$'), ('vehicles', 'NNS'), ('to', 'TO'), ('take', 'VB'), ('the', 'DT'), ('hassle', 'NN'), ('out', 'IN'), ('of', 'IN'), ('paying', 'VBG'), (',', ','), ('besides', 'IN'), ('Daimler', 'NNP'), (\"'s\", 'POS'), ('(', '('), ('DAIGn.DE', 'NNP'), (')', ')'), ('Mercedes', 'NNP'), ('.', '.'), ('``', '``'), ('Customers', 'NNP'), ('expect', 'VBP'), ('services', 'NNS'), (',', ','), ('including', 'VBG'), ('financial', 'JJ'), ('services', 'NNS'), (',', ','), ('to', 'TO'), ('be', 'VB'), ('directly', 'RB'), ('integrated', 'VBN'), ('at', 'IN'), ('the', 'DT'), ('point', 'NN'), ('of', 'IN'), ('consumption', 'NN'), (',', ','), ('and', 'CC'), ('to', 'TO'), ('be', 'VB'), ('convenient', 'JJ'), (',', ','), ('digital', 'JJ'), (',', ','), ('and', 'CC'), ('immediately', 'RB'), ('accessible', 'JJ'), (',', ','), (\"''\", \"''\"), ('said', 'VBD'), ('Roland', 'NNP'), ('Folz', 'NNP'), (',', ','), ('chief', 'JJ'), ('executive', 'NN'), ('of', 'IN'), ('Solarisbank', 'NNP'), ('which', 'WDT'), ('provides', 'VBZ'), ('banking', 'NN'), ('services', 'NNS'), ('to', 'TO'), ('more', 'JJR'), ('than', 'IN'), ('50', 'CD'), ('companies', 'NNS'), ('including', 'VBG'), ('Samsung.It', 'NNP'), (\"'s\", 'POS'), ('not', 'RB'), ('just', 'RB'), ('end', 'VB'), ('consumers', 'NNS'), ('being', 'VBG'), ('targeted', 'VBN'), ('by', 'IN'), ('embedded', 'JJ'), ('finance', 'NN'), ('startups', 'NNS'), ('.', '.'), ('Businesses', 'VBZ'), ('themselves', 'PRP'), ('are', 'VBP'), ('being', 'VBG'), ('tapped', 'VBN'), ('on', 'IN'), ('the', 'DT'), ('shoulder', 'NN'), ('as', 'IN'), ('their', 'PRP$'), ('digital', 'JJ'), ('data', 'NN'), ('is', 'VBZ'), ('crunched', 'VBN'), ('by', 'IN'), ('fintechs', 'NNS'), ('such', 'JJ'), ('as', 'IN'), ('Canada', 'NNP'), (\"'s\", 'POS'), ('Shopify', 'NNP'), ('(', '('), ('SHOP.TO', 'NNP'), (')', ')'), ('.It', 'NNP'), ('provides', 'VBZ'), ('software', 'NN'), ('for', 'IN'), ('merchants', 'NNS'), ('and', 'CC'), ('its', 'PRP$'), ('Shopify', 'NNP'), ('Capital', 'NNP'), ('division', 'NN'), ('also', 'RB'), ('offers', 'VBZ'), ('cash', 'NN'), ('advances', 'NNS'), (',', ','), ('based', 'VBN'), ('on', 'IN'), ('an', 'DT'), ('analysis', 'NN'), ('of', 'IN'), ('more', 'JJR'), ('than', 'IN'), ('70', 'CD'), ('million', 'CD'), ('data', 'NN'), ('points', 'NNS'), ('across', 'IN'), ('its', 'PRP$'), ('platform', 'NN'), ('.', '.'), ('``', '``'), ('No', 'DT'), ('merchant', 'NN'), ('comes', 'VBZ'), ('to', 'TO'), ('us', 'PRP'), ('and', 'CC'), ('says', 'VBZ'), (',', ','), ('I', 'PRP'), ('would', 'MD'), ('like', 'VB'), ('a', 'DT'), ('loan', 'NN'), ('.', '.'), ('We', 'PRP'), ('go', 'VBP'), ('to', 'TO'), ('merchants', 'NNS'), ('and', 'CC'), ('say', 'VB'), (',', ','), ('we', 'PRP'), ('think', 'VBP'), ('it', 'PRP'), (\"'s\", 'VBZ'), ('time', 'NN'), ('for', 'IN'), ('funding', 'VBG'), ('for', 'IN'), ('you', 'PRP'), (',', ','), (\"''\", \"''\"), ('said', 'VBD'), ('Kaz', 'NNP'), ('Nejatian', 'NNP'), (',', ','), ('vice', 'NN'), ('president', 'NN'), (',', ','), ('product', 'NN'), (',', ','), ('merchant', 'NN'), ('services', 'NNS'), ('at', 'IN'), ('Shopify', 'NNP'), ('.', '.'), ('``', '``'), ('We', 'PRP'), ('do', 'VBP'), (\"n't\", 'RB'), ('ask', 'VB'), ('for', 'IN'), ('business', 'NN'), ('plans', 'NNS'), (',', ','), ('we', 'PRP'), ('do', 'VBP'), (\"n't\", 'RB'), ('ask', 'VB'), ('for', 'IN'), ('tax', 'NN'), ('statements', 'NNS'), (',', ','), ('we', 'PRP'), ('do', 'VBP'), (\"n't\", 'RB'), ('ask', 'VB'), ('for', 'IN'), ('income', 'NN'), ('statements', 'NNS'), (',', ','), ('and', 'CC'), ('we', 'PRP'), ('do', 'VBP'), (\"n't\", 'RB'), ('ask', 'VB'), ('for', 'IN'), ('personal', 'JJ'), ('guarantees', 'NNS'), ('.', '.'), ('Not', 'RB'), ('because', 'IN'), ('we', 'PRP'), ('are', 'VBP'), ('benevolent', 'JJ'), ('but', 'CC'), ('because', 'IN'), ('we', 'PRP'), ('think', 'VBP'), ('those', 'DT'), ('are', 'VBP'), ('bad', 'JJ'), ('signals', 'NNS'), ('into', 'IN'), ('the', 'DT'), ('odds', 'NNS'), ('of', 'IN'), ('success', 'NN'), ('on', 'IN'), ('the', 'DT'), ('internet', 'NN'), (',', ','), (\"''\", \"''\"), ('he', 'PRP'), ('said.A', 'VBZ'), ('Shopify', 'NNP'), ('spokesperson', 'NN'), ('said', 'VBD'), ('funding', 'NN'), ('goes', 'VBZ'), ('from', 'IN'), ('$', '$'), ('200', 'CD'), ('to', 'TO'), ('$', '$'), ('2', 'CD'), ('million', 'CD'), ('.', '.'), ('It', 'PRP'), ('has', 'VBZ'), ('provided', 'VBN'), ('$', '$'), ('2.3', 'CD'), ('billion', 'CD'), ('in', 'IN'), ('cumulative', 'JJ'), ('capital', 'NN'), ('advances', 'NNS'), ('and', 'CC'), ('is', 'VBZ'), ('valued', 'VBN'), ('at', 'IN'), ('$', '$'), ('184', 'CD'), ('billion', 'CD'), (',', ','), ('well', 'RB'), ('above', 'IN'), ('Royal', 'NNP'), ('Bank', 'NNP'), ('of', 'IN'), ('Canada', 'NNP'), ('(', '('), ('RY.TO', 'NNP'), (')', ')'), (',', ','), ('the', 'DT'), ('country', 'NN'), (\"'s\", 'POS'), ('biggest', 'JJS'), ('traditional', 'JJ'), ('lender.CONNECTED', 'NN'), ('FUTURE', 'NNP'), ('?', '.'), ('Shopify', 'NNP'), (\"'s\", 'POS'), ('lending', 'NN'), ('business', 'NN'), ('is', 'VBZ'), (',', ','), ('however', 'RB'), (',', ','), ('still', 'RB'), ('dwarfed', 'VBN'), ('by', 'IN'), ('the', 'DT'), ('big', 'JJ'), ('banks', 'NNS'), ('.', '.'), ('JPMorgan', 'NNP'), ('Chase', 'NNP'), ('&', 'CC'), ('Co', 'NNP'), ('(', '('), ('JPM.N', 'NNP'), (')', ')'), (',', ','), ('for', 'IN'), ('example', 'NN'), (',', ','), ('had', 'VBD'), ('a', 'DT'), ('consumer', 'NN'), ('and', 'CC'), ('community', 'NN'), ('loan', 'NN'), ('book', 'NN'), ('worth', 'JJ'), ('$', '$'), ('435', 'CD'), ('billion', 'CD'), ('at', 'IN'), ('the', 'DT'), ('end', 'NN'), ('of', 'IN'), ('June.Major', 'NNP'), ('advances', 'NNS'), ('into', 'IN'), ('finance', 'NN'), ('by', 'IN'), ('companies', 'NNS'), ('from', 'IN'), ('other', 'JJ'), ('sectors', 'NNS'), ('could', 'MD'), ('also', 'RB'), ('be', 'VB'), ('limited', 'VBN'), ('by', 'IN'), ('regulators.Officials', 'NNS'), ('from', 'IN'), ('the', 'DT'), ('Bank', 'NNP'), ('for', 'IN'), ('International', 'NNP'), ('Settlements', 'NNP'), (',', ','), ('a', 'DT'), ('consortium', 'NN'), ('of', 'IN'), ('central', 'JJ'), ('banks', 'NNS'), ('and', 'CC'), ('financial', 'JJ'), ('regulators', 'NNS'), (',', ','), ('warned', 'VBD'), ('watchdogs', 'NNS'), ('last', 'JJ'), ('month', 'NN'), ('to', 'TO'), ('get', 'VB'), ('to', 'TO'), ('grips', 'VB'), ('with', 'IN'), ('the', 'DT'), ('growing', 'VBG'), ('influence', 'NN'), ('of', 'IN'), ('technology', 'NN'), ('firms', 'NNS'), ('in', 'IN'), ('finance', 'NN'), ('.', '.'), ('read', 'VB'), ('moreBain', 'NN'), (\"'s\", 'POS'), ('Harris', 'NNP'), ('said', 'VBD'), ('financial', 'JJ'), ('regulators', 'NNS'), ('were', 'VBD'), ('taking', 'VBG'), ('the', 'DT'), ('approach', 'NN'), ('that', 'WDT'), ('because', 'IN'), ('they', 'PRP'), ('do', 'VBP'), (\"n't\", 'RB'), ('know', 'VB'), ('how', 'WRB'), ('to', 'TO'), ('regulate', 'VB'), ('tech', 'JJ'), ('firms', 'NNS'), ('they', 'PRP'), ('are', 'VBP'), ('insisting', 'VBG'), ('there', 'EX'), (\"'s\", 'VBZ'), ('a', 'DT'), ('bank', 'NN'), ('behind', 'IN'), ('every', 'DT'), ('transaction', 'NN'), ('-', ':'), ('but', 'CC'), ('that', 'DT'), ('did', 'VBD'), ('not', 'RB'), ('mean', 'JJ'), ('banks', 'NNS'), ('would', 'MD'), ('prevent', 'VB'), ('fintechs', 'JJ'), ('encroaching', 'NN'), ('.', '.'), ('``', '``'), ('They', 'PRP'), ('are', 'VBP'), ('right', 'JJ'), ('that', 'IN'), ('the', 'DT'), ('banks', 'NNS'), ('will', 'MD'), ('always', 'RB'), ('have', 'VB'), ('a', 'DT'), ('role', 'NN'), ('but', 'CC'), ('it', 'PRP'), (\"'s\", 'VBZ'), ('not', 'RB'), ('a', 'DT'), ('very', 'RB'), ('remunerative', 'JJ'), ('role', 'NN'), ('and', 'CC'), ('it', 'PRP'), ('involves', 'VBZ'), ('very', 'RB'), ('little', 'JJ'), ('ownership', 'NN'), ('of', 'IN'), ('the', 'DT'), ('customer', 'NN'), (',', ','), (\"''\", \"''\"), ('he', 'PRP'), ('said.Forrester', 'VBD'), ('analyst', 'NN'), ('Jacob', 'NNP'), ('Morgan', 'NNP'), ('said', 'VBD'), ('banks', 'NNS'), ('had', 'VBD'), ('to', 'TO'), ('decide', 'VB'), ('where', 'WRB'), ('they', 'PRP'), ('want', 'VBP'), ('to', 'TO'), ('be', 'VB'), ('in', 'IN'), ('the', 'DT'), ('finance', 'NN'), ('chain', 'NN'), ('.', '.'), ('``', '``'), ('Can', 'MD'), ('they', 'PRP'), ('afford', 'VB'), ('to', 'TO'), ('fight', 'VB'), ('for', 'IN'), ('customer', 'NN'), ('primacy', 'NN'), (',', ','), ('or', 'CC'), ('do', 'VBP'), ('they', 'PRP'), ('actually', 'RB'), ('see', 'VBP'), ('a', 'DT'), ('more', 'RBR'), ('profitable', 'JJ'), ('route', 'NN'), ('to', 'TO'), ('market', 'NN'), ('to', 'TO'), ('become', 'VB'), ('the', 'DT'), ('rails', 'NNS'), ('that', 'IN'), ('other', 'JJ'), ('people', 'NNS'), ('run', 'VBP'), ('on', 'IN'), ('top', 'NN'), ('of', 'IN'), ('?', '.'), (\"''\", \"''\"), ('he', 'PRP'), ('said', 'VBD'), ('.', '.'), ('``', '``'), ('Some', 'DT'), ('banks', 'NNS'), ('will', 'MD'), ('choose', 'VB'), ('to', 'TO'), ('do', 'VB'), ('both', 'DT'), ('.', '.'), ('``', '``'), ('And', 'CC'), ('some', 'DT'), ('are', 'VBP'), ('already', 'RB'), ('fighting', 'VBG'), ('back.Citigroup', 'NN'), ('(', '('), ('C.N', 'NNP'), (')', ')'), ('has', 'VBZ'), ('teamed', 'VBN'), ('up', 'RP'), ('with', 'IN'), ('Google', 'NNP'), ('on', 'IN'), ('bank', 'NN'), ('accounts', 'NNS'), (',', ','), ('Goldman', 'NNP'), ('Sachs', 'NNP'), ('(', '('), ('GS.N', 'NNP'), (')', ')'), ('is', 'VBZ'), ('providing', 'VBG'), ('credit', 'NN'), ('cards', 'NNS'), ('for', 'IN'), ('Apple', 'NNP'), ('(', '('), ('AAPL.O', 'NNP'), (')', ')'), ('and', 'CC'), ('JPMorgan', 'NNP'), ('is', 'VBZ'), ('buying', 'VBG'), ('75', 'CD'), ('%', 'NN'), ('of', 'IN'), ('Volkswagen', 'NNP'), (\"'s\", 'POS'), ('payments', 'NNS'), ('business', 'NN'), ('and', 'CC'), ('plans', 'NNS'), ('to', 'TO'), ('expand', 'VB'), ('to', 'TO'), ('other', 'JJ'), ('industries', 'NNS'), ('.', '.'), ('read', 'VB'), ('more', 'RBR'), ('06:00:00', 'CD'), (\"''\", \"''\"), ('Connectivity', 'NN'), ('between', 'IN'), ('different', 'JJ'), ('systems', 'NNS'), ('is', 'VBZ'), ('the', 'DT'), ('future', 'NN'), (',', ','), (\"''\", \"''\"), ('said', 'VBD'), ('Shahrokh', 'NNP'), ('Moinian', 'NNP'), (',', ','), ('head', 'NN'), ('of', 'IN'), ('wholesale', 'JJ'), ('payments', 'NNS'), (',', ','), ('EMEA', 'NNP'), (',', ','), ('at', 'IN'), ('JPMorgan', 'NNP'), ('.', '.'), ('``', '``'), ('We', 'PRP'), ('want', 'VBP'), ('to', 'TO'), ('be', 'VB'), ('the', 'DT'), ('leader', 'NN'), ('.', '.'), (\"''\", \"''\")]\n"
     ]
    }
   ],
   "source": [
    "from operator import add\n",
    "string_solo= rdd_reuters.filter(lambda x: x!='').fold(\"\", add)\n",
    "tokens= nltk.word_tokenize(string_solo)\n",
    "tprocesado= nltk.pos_tag(tokens)\n",
    "\n",
    "print(tprocesado)"
   ]
  },
  {
   "cell_type": "code",
   "execution_count": 12,
   "id": "2a1ee0bd",
   "metadata": {},
   "outputs": [
    {
     "name": "stdout",
     "output_type": "stream",
     "text": [
      "verbos: 192, nombres 411, preps 142, adj: 94\n"
     ]
    }
   ],
   "source": [
    "nouns = 0\n",
    "verbs = 0\n",
    "adj = 0 \n",
    "prep= 0\n",
    "for x in tprocesado:\n",
    "    if x[1] == 'NN' or x[1] == 'NNP' or x[1] == 'NNPS' or x[1] == 'NNS':\n",
    "        nouns= nouns + 1\n",
    "    elif  x[1] == 'VB' or x[1] == 'VBB' or x[1] == 'VBG' or x[1] == 'VBN'  or x[1] == 'VBP' or x[1] == 'VBZ':\n",
    "        verbs = verbs + 1\n",
    "    elif  x[1] == 'JJ' or x[1] == 'JJR' or x[1] == 'JJS':\n",
    "        adj = adj +1\n",
    "    elif  x[1] == 'IN':\n",
    "        prep = prep + 1\n",
    "        \n",
    "print(f\"verbos: {verbs}, nombres {nouns}, preps {prep}, adj: {adj}\")"
   ]
  },
  {
   "cell_type": "code",
   "execution_count": null,
   "id": "463842dd",
   "metadata": {},
   "outputs": [],
   "source": []
  }
 ],
 "metadata": {
  "kernelspec": {
   "display_name": "Python 3",
   "language": "python",
   "name": "python3"
  },
  "language_info": {
   "codemirror_mode": {
    "name": "ipython",
    "version": 3
   },
   "file_extension": ".py",
   "mimetype": "text/x-python",
   "name": "python",
   "nbconvert_exporter": "python",
   "pygments_lexer": "ipython3",
   "version": "3.8.8"
  }
 },
 "nbformat": 4,
 "nbformat_minor": 5
}
